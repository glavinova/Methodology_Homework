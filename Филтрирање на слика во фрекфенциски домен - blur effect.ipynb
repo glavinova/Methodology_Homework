{
 "cells": [
  {
   "cell_type": "markdown",
   "metadata": {
    "kernel": "SoS"
   },
   "source": [
    "\n",
    "<h1 style=\"color:#ff6347; text-align:center;margin-bottom:20px\"> Филтрирање на слика во фрекфенциски домен </h1>\n",
    "\n",
    " <div style=\"color:black\"> За да филтрираме слика во фреквенциски домен потребно е да ја помножиме сликата во фреквенциски домен со филтерот (кернел) кој е исто така во фреквенциски домен.\n",
    " \\begin{equation} I_{f,filt} = HI_f \\end{equation}\n",
    " \n",
    " За таа цел потребно е да се вметне Octave функција која ќе креира “Band pass gaussian filter” во фреквенциски домен. Bandpass гаусовиот филтер во фреквенциски домен е дефиниран со равенката:\n",
    "\n",
    "\\begin{equation} H(i,j) = e^{\\frac{d(i,j)^2}{f_h^2}} (1 - e^{\\frac{d(i,j)^2}{f_l^2}}) \\end{equation}\n",
    "\n",
    "Каде што 𝑑(𝑖,𝑗) е евклидовото растојанието на даден пиксел од центарот на сликата, додека 𝑓ℎ и 𝑓𝑙 се праговите на високите и ниските фреквенции кои сакаме\n",
    "да ги филтрираме.\n",
    "\n",
    "Конверзија на 2D сликата од просторен во фреквенциски домен се прави со користење на Фуриева трансформација. Фуриевата трансформација е дефинирана\n",
    "како:\n",
    "\n",
    "\\begin{equation} F(u,v) = \\iint \\limits_{-\\infty}^{\\infty} f(x,y)e^{-i2\\pi(ux+vy)}dxdy   \\end{equation}\n",
    "\n",
    "А во дискретниот домен горната равенка може да биде преведена како:\n",
    "\n",
    "\\begin{equation} F(u,v) = \\mathop{\\sum_{m=-\\infty}^{\\infty}\\sum_{n=-\\infty}^{\\infty}} f[m,n]\\cdot e^{-i2\\pi(ux+vy)}dudv                          \\end{equation}\n",
    "\n",
    "Конверзија на 2D сликата од фреквенциски во просторен домен се прави со користење на инверзна Фуриева трансформација. Инверзната Фуриева\n",
    "трансформација е дефинирана како:\n",
    "\n",
    "\\begin{equation} F(x,y) = \\iint \\limits_{-\\infty}^{\\infty} f(u,v) e^{-i2\\pi(ux+vy)}dudv   \\end{equation}\n",
    "\n",
    "А во дискретниот домен горната равенка може да биде преведена како:\n",
    "\n",
    "\\begin{equation} F(x,y) = \\mathop{\\sum_{m=-\\infty}^{\\infty}\\sum_{n=-\\infty}^{\\infty}} f[m,n] \\cdot e^{-i2\\pi(xmu_0+ynv_0)}                        \\end{equation}\n",
    "\n",
    "<div>\n",
    "   "
   ]
  },
  {
   "cell_type": "code",
   "execution_count": 9,
   "metadata": {},
   "outputs": [],
   "source": [
    "%%capture\n",
    "%matplotlib inline\n",
    "from ipywidgets import interact, widgets\n",
    "from IPython.display import display\n",
    "import matplotlib.pyplot as plt\n",
    "import warnings\n",
    "\n",
    "from skimage.morphology import disk\n",
    "from skimage.filters import rank\n",
    "from skimage.color import rgb2gray\n",
    "import skimage.data\n",
    "\n",
    "\n",
    "def f(Median_Size):\n",
    "    selem = disk(int(Median_Size))\n",
    "    with warnings.catch_warnings():\n",
    "        warnings.simplefilter(\"ignore\")\n",
    "        img_median = rank.median(img_gray, selem=selem) \n",
    "\n",
    "    ax_neu.imshow(img_median, cmap=\"gray\")\n",
    "    fig.canvas.draw()\n",
    "    display(fig)\n",
    "\n",
    "image = plt.imread(\"https://homepages.cae.wisc.edu/~ece533/images/barbara.png\")       \n",
    "img_gray = rgb2gray(image)\n",
    "\n",
    "fig = plt.figure(figsize=(11, 13))\n",
    "ax_orig = fig.add_subplot(121) \n",
    "ax_neu = fig.add_subplot(122) \n",
    "\n",
    "ax_orig.imshow(img_gray, cmap=\"gray\")\n",
    "ax_neu.imshow(img_gray, cmap=\"gray\")"
   ]
  },
  {
   "cell_type": "code",
   "execution_count": 10,
   "metadata": {},
   "outputs": [
    {
     "data": {
      "application/vnd.jupyter.widget-view+json": {
       "model_id": "2180cd21ac36493fac0569eb75fcf7e7",
       "version_major": 2,
       "version_minor": 0
      },
      "text/plain": [
       "interactive(children=(IntSlider(value=1, description='Frequency cutoffs', max=10, min=1), Output()), _dom_clas…"
      ]
     },
     "metadata": {},
     "output_type": "display_data"
    }
   ],
   "source": [
    "interact(f, Median_Size=widgets.IntSlider(min=1,max=10,step=1,value=1, description='Frequency cutoffs'));"
   ]
  }
 ],
 "metadata": {
  "kernelspec": {
   "display_name": "Python 3",
   "language": "python",
   "name": "python3"
  },
  "language_info": {
   "codemirror_mode": {
    "name": "ipython",
    "version": 3
   },
   "file_extension": ".py",
   "mimetype": "text/x-python",
   "name": "python",
   "nbconvert_exporter": "python",
   "pygments_lexer": "ipython3",
   "version": "3.7.3"
  },
  "sos": {
   "kernels": [
    [
     null,
     null,
     "",
     "",
     ""
    ]
   ],
   "panel": {
    "displayed": true,
    "height": 0
   }
  }
 },
 "nbformat": 4,
 "nbformat_minor": 2
}
