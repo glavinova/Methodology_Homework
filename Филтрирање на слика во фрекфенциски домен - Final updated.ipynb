{
 "cells": [
  {
   "cell_type": "markdown",
   "metadata": {
    "kernel": "SoS"
   },
   "source": [
    "\n",
    "<h1 style=\"color:#ff6347; text-align:center;margin-bottom:20px\"> Филтрирање на слика во фрекфенциски домен </h1>\n",
    "\n",
    " <div style=\"color:black\"> За да филтрираме слика во фреквенциски домен потребно е да ја помножиме сликата во фреквенциски домен со филтерот (кернел) кој е исто така во фреквенциски домен.\n",
    " \\begin{equation} I_{f,filt} = HI_f \\end{equation}\n",
    " \n",
    " За таа цел потребно е да се вметне Octave функција која ќе креира “Band pass gaussian filter” во фреквенциски домен. Bandpass гаусовиот филтер во фреквенциски домен е дефиниран со равенката:\n",
    "\n",
    "\\begin{equation} H(i,j) = e^{\\frac{d(i,j)^2}{f_h^2}} (1 - e^{\\frac{d(i,j)^2}{f_l^2}}) \\end{equation}\n",
    "\n",
    "Каде што 𝑑(𝑖,𝑗) е евклидовото растојанието на даден пиксел од центарот на сликата, додека 𝑓ℎ и 𝑓𝑙 се праговите на високите и ниските фреквенции кои сакаме\n",
    "да ги филтрираме.\n",
    "\n",
    "Конверзија на 2D сликата од просторен во фреквенциски домен се прави со користење на Фуриева трансформација. Фуриевата трансформација е дефинирана\n",
    "како:\n",
    "\n",
    "\\begin{equation} F(u,v) = \\iint \\limits_{-\\infty}^{\\infty} f(x,y)e^{-i2\\pi(ux+vy)}dxdy   \\end{equation}\n",
    "\n",
    "А во дискретниот домен горната равенка може да биде преведена како:\n",
    "\n",
    "\\begin{equation} F(u,v) = \\mathop{\\sum_{m=-\\infty}^{\\infty}\\sum_{n=-\\infty}^{\\infty}} f[m,n]\\cdot e^{-i2\\pi(ux+vy)}dudv                          \\end{equation}\n",
    "\n",
    "Конверзија на 2D сликата од фреквенциски во просторен домен се прави со користење на инверзна Фуриева трансформација. Инверзната Фуриева\n",
    "трансформација е дефинирана како:\n",
    "\n",
    "\\begin{equation} F(x,y) = \\iint \\limits_{-\\infty}^{\\infty} f(u,v) e^{-i2\\pi(ux+vy)}dudv   \\end{equation}\n",
    "\n",
    "А во дискретниот домен горната равенка може да биде преведена како:\n",
    "\n",
    "\\begin{equation} F(x,y) = \\mathop{\\sum_{m=-\\infty}^{\\infty}\\sum_{n=-\\infty}^{\\infty}} f[m,n] \\cdot e^{-i2\\pi(xmu_0+ynv_0)}                        \\end{equation}\n",
    "\n",
    "<div>\n",
    "   "
   ]
  },
  {
   "cell_type": "code",
   "execution_count": null,
   "metadata": {},
   "outputs": [],
   "source": [
    "%%capture\n",
    "%matplotlib inline\n",
    "from ipywidgets import interact, widgets\n",
    "from IPython.display import display\n",
    "import matplotlib.pyplot as plt\n",
    "import warnings\n",
    "\n",
    "from skimage.morphology import disk\n",
    "from skimage.filters import rank\n",
    "from skimage.color import rgb2gray\n",
    "import skimage.data\n",
    "\n",
    "\n",
    "def f(Median_Size):\n",
    "    selem = disk(int(Median_Size))\n",
    "    with warnings.catch_warnings():\n",
    "        warnings.simplefilter(\"ignore\")\n",
    "        img_median = rank.median(img_gray, selem=selem) \n",
    "\n",
    "    ax_neu.imshow(img_median, cmap=\"gray\")\n",
    "    fig.canvas.draw()\n",
    "    display(fig)\n",
    "\n",
    "image = plt.imread(\"https://homepages.cae.wisc.edu/~ece533/images/barbara.png\")       \n",
    "img_gray = rgb2gray(image)\n",
    "\n",
    "fig = plt.figure(figsize=(11, 13))\n",
    "ax_orig = fig.add_subplot(121) \n",
    "ax_neu = fig.add_subplot(122) \n",
    "\n",
    "ax_orig.imshow(img_gray, cmap=\"gray\")\n",
    "ax_neu.imshow(img_gray, cmap=\"gray\")\n",
    "\n",
    "\n",
    "\n"
   ]
  },
  {
   "cell_type": "code",
   "execution_count": null,
   "metadata": {},
   "outputs": [],
   "source": [
    "interact(f, Median_Size=widgets.IntSlider(min=1,max=10,step=1,value=1, description='Frequency cutoffs'));\n",
    "\n",
    "\n",
    "dft = cv2.dft(np.float32(image),flags = cv2.DFT_COMPLEX_OUTPUT)\n",
    "\n",
    "# shift the zero-frequncy component to the center of the spectrum\n",
    "dft_shift = np.fft.fftshift(dft)\n",
    "\n",
    "# save image of the image in the fourier domain.\n",
    "magnitude_spectrum = 20*np.log(cv2.magnitude(dft_shift[:,:,0],dft_shift[:,:,1]))\n",
    "\n",
    "# plot both images\n",
    "plt.figure(figsize=(11,6))\n",
    "plt.subplot(121),plt.imshow(image, cmap = 'gray')\n",
    "plt.title('Original (input) Image'), plt.xticks([]), plt.yticks([])\n",
    "plt.subplot(122),plt.imshow(magnitude_spectrum, cmap = 'gray')\n",
    "plt.title('Magnitude Spectrum'), plt.xticks([]), plt.yticks([])\n",
    "\n"
   ]
  },
  {
   "cell_type": "code",
   "execution_count": null,
   "metadata": {},
   "outputs": [],
   "source": [
    "%second version \n",
    "\n",
    "\n",
    "clear all\n",
    "%read image\n",
    "im = double(imread('Barbara.tif'));\n",
    "%size of the image\n",
    "[nx ny] = size(im);\n",
    "%Transform the image from spatial to frequency domain\n",
    "im_fft = fftshift(fft2(im));\n",
    "% Create Gaussian bandpass kernels, in frequency domain, for 20 different cut off frequencies and filter the image\n",
    "p=1;\n",
    "for i = 1:10:101\n",
    "q=1;\n",
    "    for j = 1:10:101\n",
    "        %Create the bandpass kernel\n",
    "        tmp1 = create_filter(nx,ny,i,j);\n",
    "        %Filter the image with the bandpass kernel and transform it back to spatial domain\n",
    "        tmp = mat2gray(abs(ifft2(ifftshift(tmp1.*im_fft))));\n",
    "        %Save the filtered image (in spatial domain) and kernel (in frequency domain) for visualization \n",
    "        filtered_image(p,q,:) = tmp(:);\n",
    "        filter_kernel(p,q,:) = tmp1(:);\n",
    "        q=q+1;\n",
    "    end\n",
    "    p=p+1;\n",
    "end"
   ]
  },
  {
   "cell_type": "code",
   "execution_count": null,
   "metadata": {},
   "outputs": [],
   "source": [
    "# %%capture\n",
    "# %matplotlib inline\n",
    "from ipywidgets import interact, widgets\n",
    "from IPython.display import display\n",
    "from scipy.ndimage import gaussian_filter\n",
    "import matplotlib.pyplot as plt\n",
    "import warnings\n",
    "import cv2\n",
    "import numpy as np\n",
    "from skimage.morphology import disk\n",
    "from skimage.filters import rank\n",
    "from skimage.color import rgb2gray\n",
    "import skimage.data\n",
    "\n",
    "figure_size = 9\n",
    "\n",
    "def f(Median_Size):\n",
    "    temp_image_2 = filter_kernel\n",
    "    ax_neu.imshow(temp_image_2, cmap=\"gray\")\n",
    "    fig.canvas.draw()\n",
    "    display(fig)\n",
    "\n",
    "image = skimage.data.camera() #plt.imread(\"Test.png\")       \n",
    "img_gray = rgb2gray(image)\n",
    "\n",
    "fig = plt.figure(figsize=(6, 4))\n",
    "ax_orig = fig.add_subplot(121) \n",
    "ax_neu = fig.add_subplot(122) \n",
    "xmin, xmax = 1, 10\n",
    "ax_orig.imshow(img_gray, cmap=\"gray\")\n",
    "ax_neu.imshow(img_gray, cmap=\"gray\")\n",
    "interact(f, Median_Size=widgets.FloatRangeSlider(\n",
    "    min=xmin,\n",
    "    max=xmax,\n",
    "    step= 1.0,\n",
    "    description='Frequency cut',\n",
    "    readout=True,\n",
    "    readout_format='.0f'))"
   ]
  },
  {
   "cell_type": "code",
   "execution_count": null,
   "metadata": {},
   "outputs": [],
   "source": []
  }
 ],
 "metadata": {
  "kernelspec": {
   "display_name": "Matlab",
   "language": "matlab",
   "name": "matlab"
  },
  "language_info": {
   "codemirror_mode": "octave",
   "file_extension": ".m",
   "help_links": [
    {
     "text": "MetaKernel Magics",
     "url": "https://metakernel.readthedocs.io/en/latest/source/README.html"
    }
   ],
   "mimetype": "text/x-octave",
   "name": "matlab",
   "version": "0.16.7"
  },
  "sos": {
   "kernels": [
    [
     null,
     null,
     "",
     "",
     ""
    ]
   ],
   "panel": {
    "displayed": true,
    "height": 0
   }
  }
 },
 "nbformat": 4,
 "nbformat_minor": 2
}
